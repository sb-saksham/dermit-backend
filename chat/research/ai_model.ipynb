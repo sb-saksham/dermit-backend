{
 "cells": [
  {
   "cell_type": "code",
   "execution_count": 2,
   "metadata": {},
   "outputs": [],
   "source": [
    "import os\n",
    "import openai\n",
    "import json\n",
    "from dotenv import load_dotenv, find_dotenv\n",
    "\n",
    "_ = load_dotenv(find_dotenv())\n",
    "openai.api_key = os.environ.get(\"OPENAI_API_KEY\")\n",
    "from langchain.tools import tool\n",
    "\n",
    "from langchain_openai import ChatOpenAI\n",
    "from langchain_community.vectorstores import Chroma\n",
    "from langchain_openai import OpenAIEmbeddings\n",
    "\n",
    "from langchain.tools.retriever import create_retriever_tool\n",
    "\n",
    "from langchain import hub\n",
    "\n",
    "from langchain.agents import AgentExecutor, create_openai_tools_agent\n",
    "\n",
    "from langchain.memory import ChatMessageHistory\n",
    "import os\n"
   ]
  },
  {
   "cell_type": "code",
   "execution_count": 4,
   "metadata": {},
   "outputs": [
    {
     "data": {
      "text/plain": [
       "'d:\\\\Machine Learning Projects\\\\DermIT\\\\web-app\\\\backend\\\\chat\\\\research'"
      ]
     },
     "execution_count": 4,
     "metadata": {},
     "output_type": "execute_result"
    }
   ],
   "source": [
    "os.getcwd()"
   ]
  },
  {
   "cell_type": "code",
   "execution_count": 7,
   "metadata": {},
   "outputs": [],
   "source": [
    "# Loading Pdf contains\n",
    "\n",
    "from langchain.document_loaders import PyPDFLoader\n",
    "\n",
    "python_loader = PyPDFLoader(\"../data/python.pdf\", extract_images=True)\n",
    "python_pages = python_loader.load()"
   ]
  },
  {
   "cell_type": "code",
   "execution_count": 23,
   "metadata": {},
   "outputs": [],
   "source": [
    "import os\n",
    "from langchain.document_loaders import PyPDFLoader\n",
    "\n",
    "path = \"../data/derma\"\n",
    "files_name = os.listdir(path)\n",
    "all_docs = []\n",
    "\n",
    "for file in files_name:\n",
    "    loader = PyPDFLoader(f\"../data/derma/{file}\", extract_images=True)\n",
    "    pages = loader.load()\n",
    "    all_docs.extend(pages)"
   ]
  },
  {
   "cell_type": "code",
   "execution_count": 10,
   "metadata": {},
   "outputs": [],
   "source": [
    "# Configure text splitter\n",
    "\n",
    "from langchain.text_splitter import RecursiveCharacterTextSplitter\n",
    "chunk_size = 750\n",
    "chunk_overlap = 75\n",
    "\n",
    "text_splitter = RecursiveCharacterTextSplitter(\n",
    "    chunk_size=chunk_size,\n",
    "    chunk_overlap=chunk_overlap,\n",
    "    separators=[\"\\n\\n\", \"\\n\", \"(?<=\\. )\", \" \", \"\"]\n",
    ")\n",
    "python_split_docs = text_splitter.split_documents(python_pages)"
   ]
  },
  {
   "cell_type": "code",
   "execution_count": 13,
   "metadata": {},
   "outputs": [
    {
     "name": "stdout",
     "output_type": "stream",
     "text": [
      "98\n",
      "201\n"
     ]
    }
   ],
   "source": [
    "print(len(python_pages))\n",
    "print(len(python_split_docs))"
   ]
  },
  {
   "cell_type": "code",
   "execution_count": 24,
   "metadata": {},
   "outputs": [
    {
     "data": {
      "text/plain": [
       "[Document(page_content=\" Disease name - \\nAcne , Acne Vulgaris  \\n \\n \\nMedical history related to acne  disease  – \\nMedical history may include previous instances of acne outbreaks, hormonal imbalances, dietary \\nhabits, and skincare routines.  \\n \\n \\nSymptoms  of Acne -  \\nFollowing are the symptoms of Acne also knows as Acne Vulgaris are as follows - \\nSymptom  1- Whiteheads: Whiteheads, also known as closed comedones, are small, flesh -colored or \\nwhite bumps that develop on the skin's surface. They occur when a hair follicle becomes clogged \\nwith oil, dead skin cells, and bacteria. Unlike blackheads, the pore's op ening is closed, trapping the \\ndebris inside. Whiteheads may appear slightly raised and can be found primarily on the face, \\nparticularly in areas with high oil production like the forehead, nose, and chin. They are considered a \\nmild form of acne and  are typically non -inflammatory.  \\nSymptom  2- Blackheads: Blackheads, also known as open comedones, are small, dark -colored bumps \\nthat develop on the skin's surface. They form when a hair follicle becomes clogged with excess oil, \\ndead skin cells, and bacteria. Unlike whiteheads, the pore remains open,  allowing the trapped \\nmaterial to oxidize and turn dark in color. Blackheads are commonly found on the face, particularly in \\nthe T -zone (forehead, nose, and chin), but can also occur on the back, chest, neck, and shoulders. \\nThey are considered a  mild form of acne and are non -inflammatory.  \\nSymptom  3-  Pimples: Pimples, also known as papules, are small, raised bumps on the skin that may \\nbe red, pink, or flesh -colored. They develop when hair follicles become clogged with oil, dead skin \\ncells, and bacteria, causing inflammation and swelling. Pimples are ty pically tender to the touch and \\nmay be surrounded by redness. They can occur individually or in clusters and are commonly found on \\nthe face, neck, chest, and back. Pimples are considered a mild to moderate form of acne and can \\nprogress to more severe lesions if left untreated.  \\nSymptom  4- Papules: Papules are small, solid, raised bumps on the skin that are typically pink or red \\nin color. They occur when hair follicles become inflamed due to the buildup of oil, dead skin cells, \\nand bacteria. Papules do not contain pus and should not be squee zed or picked, as this can worsen \\ninflammation and lead to scarring. They are commonly found in areas with high oil production, such \\nas the face, chest, and back, and are a characteristic feature of inflammatory acne.  \\nSymptom  5- Pustules: Pustules are small, pus -filled bumps on the skin that are typically red or pink in \\ncolor and surrounded by inflammation. They develop when hair follicles become infected with \\nbacteria, causing the formation of pus. Pustules may be tender to the touch and can rupture, \\nreleasing pus onto the skin's surface. They ar e commonly found in clusters and are a characteristic \\nfeature of inflammatory acne. Pustules should not be squeezed or picked, as this can lead to further \\ninfection and scarring.  \", metadata={'source': '../data/derma/Acne.pdf', 'page': 0}),\n",
       " Document(page_content=\"Symptom  6- Nodules: Nodules are large, solid, painful bumps beneath the skin's surface that develop \\nwhen hair follicles become deeply clogged with oil, dead skin cells, and bacteria, leading to severe \\ninflammation and swelling. Unlike pustules or papules, nodules do not contain pus and are not easily \\nextractable. They may persist for weeks or months and can leave behind scars. Nodules are a \\ncharacteristic feature of nodulocystic acne, a severe form of inflammatory acne that requires medical \\ntreatment.  \\nSymptom  7- Cysts: Cysts are large, pus -filled lumps beneath the skin's surface that develop when \\nclogged hair follicles become infected and inflamed, leading to the formation of a deep -seated \\npocket of pus. Cysts are typically tender to the touch and may cause pain a nd swelling. They can \\npersist for weeks or months and often lead to scarring if not treated promptly. Cysts are a severe \\nform of acne and require medical intervention, such as drainage and/or prescription medications, for \\nresolution.  \\nSymptom  8- Inflammatory Lesions: Inflammatory lesions refer to various types of acne lesions \\ncharacterized by inflammation, including papules, pustules, nodules, and cysts. These lesions develop \\nwhen hair follicles become clogged with excess oil, dead skin cells, and  bacteria, leading to \\ninflammation and swelling of the surrounding tissue. Inflammatory lesions may be tender to the \\ntouch and can cause redness, swelling, and pain. They are typically more severe than non -\\ninflammatory lesions such as whiteheads  and blackheads and may lead to scarring if not treated \\nappropriately.  \\nSymptom  9- Redness and Swelling Around the Lesions: Redness and swelling are common \\ncharacteristics of inflamed acne lesions, including papules, pustules, nodules, and cysts. When hair \\nfollicles become clogged with excess oil, dead skin cells, and bacteria, the body' s immune response is \\ntriggered, leading to inflammation of the surrounding tissue. This inflammatory response manifests \\nas redness and swelling, making the acne lesions appear more prominent and painful. Redness and \\nswelling may be accompanied b y tenderness and warmth in the affected area and are indicative of \\nactive inflammation. Proper treatment is necessary to reduce inflammation and prevent scarring.  \\n \\n \\nDescription of the Acne - \\nAcne is a common skin condition characterized by the formation of lesions such as whiteheads, \\nblackheads, pimples, and cysts. It occurs when hair follicles become clogged with oil, dead skin cells, \\nand bacteria, leading to inflammation. Hormonal changes, e xcess sebum production, and bacteria \\nplay key roles in its development. Acne commonly affects areas with high oil gland activity like the \\nface, chest, and back. It can have significant psychological effects and may lead to scarring  if not \\ntreated promptly. Treatment options include topical creams, oral medications, and lifestyle changes. \\nProper skincare, diet, and stress management are essential for managing acne and preventing flare -\\nups. Regular medical follow -up helps monitor prog ress and adjust treatment plans as needed.  \\n \\nCause of the Acne -  \\nCause 1 - Excessive Production of Oil (Sebum) by the Sebaceous Glands: Acne is often triggered by an \\noverproduction of oil (sebum) by the sebaceous glands in the skin. This excess oil can mix with dead \\nskin cells and block hair follicles, leading to the for mation of various types of acne lesions such as \\nwhiteheads, blackheads, pimples, and cysts.  \", metadata={'source': '../data/derma/Acne.pdf', 'page': 1}),\n",
       " Document(page_content=\"Cause 2- Buildup of Dead Skin Cells: The accumulation of dead skin cells on the skin's surface can also \\ncontribute to the development of acne. When these dead skin cells mix with sebum, they can clog \\npores and create an environment conducive to bacterial growth, ex acerbating acne symptoms.  \\nCause 3- Bacteria (Propionibacterium acnes) on the Skin: Propionibacterium acnes, a type of bacteria \\ncommonly found on the skin, plays a role in the development of acne. When pores become clogged \\nwith oil and dead skin cells, P . acnes bacteria can multiply within t he follicles, triggering inflammation \\nand leading to the formation of inflammatory acne lesions.  \\nCause 4- Hormonal Changes, Particularly During Puberty: Hormonal changes, especially fluctuations \\nin androgen levels during puberty, can stimulate the sebaceous glands to produce more oil. This \\nincrease in oil production can contribute to the development of acne lesions, making adolescents \\nparticularly susceptible to ac ne breakouts.  \\nCause 5- Genetics: Genetic factors can influence an individual's predisposition to acne. People with a \\nfamily history of acne are more likely to develop the condition themselves, suggesting a genetic \\ncomponent to acne susceptibility.  \\nCause 6- Certain Medications: Some medications, such as corticosteroids, hormonal treatments, and \\ncertain anticonvulsants or antidepressants, can contribute to the development or exacerbation of \\nacne as a side effect.  \\nCause 7- Environmental Factors Such as Pollution and Humidity: Environmental factors like pollution \\nand humidity can also play a role in acne development. Pollutants in the air can settle on the skin and \\nmix with sebum, potentially clogging pores and leading to acn e flare -ups. High humidity levels can \\nincrease sweat and oil production, further contributing to acne formation.  \\n \\n \\nLifestyle changes  to prevent Acne - \\nFollowing are the precautionary lifestyle measures you can take to prevent acne or acne vulgaris - \\nRegular cleansing of the skin to remove excess oil and impurities . Avoiding harsh skincare products \\nthat can irritate the skin . Using non -comedogenic (non -pore -clogging) makeup and skincare \\nproducts . Keeping hair clean and away from the face to prevent oil and dirt buildup . Avoiding picking \\nor squeezing pimples, as this can lead to scarring and further inflammation  \\n \\n \\nDisease background  of Acne - \\nAdolescents and teenagers are particularly susceptible to acne due to hormonal changes during \\npuberty.  However, acne can affect individuals of any age and is also common in adults, especially \\nwomen.  People with oily skin types are more prone to acne, but it can occur in individuals with any \\nskin type.  \", metadata={'source': '../data/derma/Acne.pdf', 'page': 2}),\n",
       " Document(page_content='Disease Name –  \\nAlopecia (Alopecia Areata)  \\n \\n \\nMedical history related to  Alopecia –  \\nFamily history of alopecia or autoimmune diseases. Previous episodes of hair loss or bald patches. \\nHistory of autoimmune disorders such as thyroid disease or vitiligo. Recent physical or emotional \\nstressors.  \\n \\nSymptoms of Alopecia –  \\nSymptom 1 - Sudden Onset of Hair Loss in Small, Round Patches: Alopecia typically presents with a \\nsudden onset of hair loss, characterized by the development of small, round patches on the scalp or \\nother areas of the body. These patches may vary in size but are usuall y well -defined and circular in \\nshape. The hair loss can occur rapidly over a matter of days or weeks, leading to noticeable bald spots.  \\nSymptom 2- Smooth, Hairless Patches with No Signs of Inflammation or Scarring: The areas of hair loss in \\nalopecia areata appear as smooth, hairless patches on the scalp or affected areas of the body. Unlike \\nother types of hair loss conditions, such as those associate d with inflammation or scarring, alopecia \\nareata does not typically cause redness, scaling, or scarring of the skin within the affected patches.  \\nSymptom 3- Possible Tingling or Itching Sensation in Affected Areas: Some individuals with alopecia may \\nexperience sensations of tingling or itching in the areas where hair loss is occurring. This sensation, \\nknown as trichodynia, can precede the onset of hair loss an d may be associated with inflammation of \\nthe hair follicles. However, not all individuals with alopecia experience these symptoms, and their \\npresence can vary among affected individuals.  \\nSymptom 4- Nail Abnormalities Such as Pitting or Ridges: In severe cases of alopecia areata, individuals \\nmay also experience changes in the appearance of their nails. This can include the development of nail \\nabnormalities such as pitting, ridges, or roughness of the nail surface. These changes are thought to be \\nrelated to the underlying autoimmune process that causes hair loss in alopecia areata.  \\nSymptom 5- Hair May Regrow Spontaneously or May Not Regrow Without Treatment: One of the \\ndistinctive features of alopecia areata is the potential for spontaneous hair regrowth. In some cases, hair \\nmay begin to regrow within the affected patches without any treatment.  However, the course of alopecia \\nareata can be unpredictable, and hair regrowth may not occur for some individuals without intervention. \\nTreatment options for alopecia areata aim to promote hair regrowth and may include topical or \\ninjectable med ications, light therapy, or systemic therapies to suppress the immune response.  \\n \\n \\nDescription of  Alopecia – ', metadata={'source': '../data/derma/Alopecia.pdf', 'page': 0}),\n",
       " Document(page_content=\"Alopecia is a common autoimmune condition characterized by sudden, non -scarring hair loss, typically in \\nsmall, round patches on the scalp. It can also affect other hair -bearing areas of the body, such as the \\neyebrows, eyelashes, and beard. Alopecia occurs when the body's immune system mistakenly attacks \\nhair follicles, leading to hair loss. The exact cause of alopecia is not fully understood, but it is believed to \\ninvolve a combination of genetic, environmental, and immune factors. While alopecia is not lif e-\\nthreatening, it can have a significant psychological impact on affected individuals, leading to feelings of \\nself-consciousness and decreased self -esteem.  \\n \\n \\nCause s of Alopecia –  \\nCause 1 - Autoimmune factors: Alopecia is considered an autoimmune disease, where the body's \\nimmune system mistakenly targets hair follicles as foreign invaders, leading to hair loss. Genetic \\npredisposition and environmental triggers, such as stress or illness, may contribute to the development \\nof autoimmune reactions against hair follicles.  \\nCause 2- Genetic factors: Family history plays a significant role in the development of alopecia, \\nsuggesting a genetic predisposition to the condition. Certain genetic variations may increase \\nsusceptibility to autoimmune reactions that result in hair loss.  \\nCause 3- Environmental triggers: Stressful life events, such as illness, trauma, or emotional stress, may \\ntrigger or exacerbate episodes of alopecia. Environmental factors, such as exposure to toxins or \\npollutants, may also play a role in triggering immune -mediated  responses leading to hair loss.  \\n \\nLifestyle changes to prevent Alopecia –  \\nPreventive measures for alopecia primarily focus on managing stress and maintaining overall health and \\nwell-being. Stress management techniques, such as mindfulness, meditation, yoga, or therapy, can help \\nreduce stress levels and may minimize the risk of triggering alopecia episodes. A balanced diet rich in \\nvitamins, minerals, and essenti al nutrients supports hair health and may help reduce the severity of hair \\nloss. Avoiding harsh hair treatments or styling techniques that may damage hair follicles can also help \\nprevent exacerbation of alopecia symptoms.  \\n \\n \\nDisease background  of Alopecia (Alopecia Areata) – \\nAlopecia can affect individuals of all ages, genders, and ethnicities, although it most commonly manifests \\nin adolescence or early adulthood. Individuals with a family history of alopecia or autoimmune diseases \\nare at higher risk of developing the conditio n. While alopecia is not associated with significant physical \\nhealth risks, it can have a profound psychological impact, leading to feelings of embarrassment, anxiety, \\nand depression. Early diagnosis and appropriate management, including medical treatments  and \\npsychological support, can help individuals cope with alopecia and manage its impact on their daily lives.  \", metadata={'source': '../data/derma/Alopecia.pdf', 'page': 1}),\n",
       " Document(page_content=\" Disease name - \\nEczema , Dermatitis  \\nMedical history related  Eczema , Dermatitis  – \\nFamily History of Allergic Conditions:  Individuals with a family history of allergic conditions, such as \\neczema, asthma, hay fever (allergic rhinitis), or food allergies, are more predisposed to developing \\neczema themselves. This suggests a genetic component to the condition, where certain genetic \\nfactors can increase susceptibility to allergic diseases. Family history provides valuable insight into \\nthe likelihoo d of developing eczema and helps healthcare providers identify individuals at higher risk. \\nUnderstanding the familial pattern of allergic conditions allows for early intervention and preventive \\nmeasures to manage eczema effectively.  \\nPersonal History of Allergies or Asthma:  A personal history of allergies or asthma also increases the \\nlikelihood of developing eczema. Allergic conditions share common underlying mechanisms, \\nincluding immune system dysregulation and heightened sensitivity to environmental triggers. \\nIndividuals wi th allergies may have an overactive immune response to allergens, leading to \\ninflammation and skin irritation characteristic of eczema. Similarly, asthma, a chronic respiratory \\ncondition characterized by airway infl ammation and constriction, often coexists with eczema, \\nsuggesting a shared genetic and immunological basis. Personal history helps healthcare providers \\nassess the individual's risk profile and tailor treatment strategies accordingly.  \\nPrevious Episodes of Eczema Flare -ups:  Recurrent episodes of eczema flare -ups are a hallmark \\nfeature of the condition. Individuals with a history of eczema flare -ups are at increased risk of future \\nepisodes, especially in response to triggers such as allergens, irritants, stress, or weather cha nges. \\nUnderstanding the frequency, severity, and triggers of past flare -ups provides valuable information \\nfor disease management and prevention. It allows healthcare providers to identify specific triggers \\nand develop  personalized treatment plans aimed at minimizing flare -ups, reducing symptoms, and \\nimproving quality of life. Monitoring and documenting past flare -ups help track disease progression \\nand treatment effectiveness over time.  \\n \\nSymptoms  of Eczema , Dermatitis  -  \\nItchy Skin: One of the hallmark symptoms of eczema is intense itching, which can be constant and \\ndisruptive. Itching may worsen at night, interfering with sleep and daily activities.  \\nRed or Inflamed Skin: Affected areas of the skin often appear red, inflamed, and irritated. This \\nredness may be widespread or localized to specific patches of skin.  \\nDry, Scaly, or Thickened Skin: Eczema commonly causes dryness and flakiness of the skin, leading to \\nrough, scaly patches. In some cases, the skin may become thickened or leathery due to chronic \\ninflammation and scratching.  \\nSmall, Raised Bumps That May Ooze or Crust Over: Eczema lesions can manifest as small, raised \\nbumps known as papules. These bumps may ooze clear fluid or develop a crust when scratched, \\nleading to further irritation and potential infection.  \\nSkin Discoloration or Changes in Pigmentation: Prolonged inflammation and scratching can cause \\nchanges in the skin's pigmentation, resulting in areas of hyperpigmentation (darkening) or \\nhypopigmentation (lightening). These changes may persist even after th e eczema flare -up resolves.  \", metadata={'source': '../data/derma/Dermatitis (eczema).pdf', 'page': 0}),\n",
       " Document(page_content=\"Sensitive Skin That May React to Certain Triggers: Individuals with eczema often have sensitive skin \\nthat reacts strongly to various triggers, including allergens, irritants, stress, and environmental \\nfactors. Contact with triggers can exacerbate symptoms and lead to flare -ups of eczema.  \\n \\nDescription of Eczema , Dermatitis  - \\n \\nEczema, also known as dermatitis, is a chronic inflammatory skin condition characterized by patches \\nof irritated, inflamed, and itchy skin. It commonly presents with symptoms such as redness, dryness, \\nand thickening of the skin, along with small raised bum ps that may ooze or crust over. Eczema can \\naffect people of all ages but is most common in children, with many cases improving by adulthood. It \\ncan manifest differently depending on the individual and may range from mild to severe. Common \\ntypes include ato pic dermatitis, contact dermatitis, and seborrheic dermatitis. While the exact cause \\nof eczema is not fully understood, it is believed to involve a combination of genetic, immune, and \\nenvironmental factors. Management typically involves identifying and avo iding triggers, moisturizing \\nregularly, using gentle skincare products, and following prescribed treatment plans to alleviate \\nsymptoms and prevent flare -ups. \\n \\nCause s of Eczema , Dermatitis  -  \\nThe exact cause of eczema  \\n is unknown, but researchers believe it's caused by an interaction between genes and environmental \\ntriggers. Common triggers include:  \\nDry weather  \\nGenetic factors: Family history of eczema or other allergic conditions increases the risk.  \\nImmune system dysfunction: Abnormal immune responses can lead to inflammation and skin \\nirritation.  \\nEnvironmental allergens: Exposure to allergens such as pollen, dust mites, pet dander, and certain \\nfoods can trigger eczema flare -ups. \\nIrritants: Contact with harsh chemicals, soaps, detergents, and fabrics can exacerbate eczema \\nsymptoms.  \\nWeather conditions: Dry, cold weather can cause skin dryness and worsen eczema, while hot \\nweather may lead to sweating and irritation.  \\nStress: Emotional stress can weaken the immune system and trigger eczema flare -ups in susceptible \\nindividuals.  \\nTouching something you're allergic to  \\n \\nLifestyle changes  to prevent Eczema , Dermatitis - \\nMoisturize regularly to keep the skin hydrated and prevent dryness. Identify and avoid triggers such \\nas allergens, irritants, and certain foods. Use gentle, fragrance -free skincare products and detergents.  \", metadata={'source': '../data/derma/Dermatitis (eczema).pdf', 'page': 1}),\n",
       " Document(page_content='Maintain a healthy diet rich in fruits, vegetables, and omega -3 fatty acids. Manage stress through \\nrelaxation techniques, exercise, and adequate sleep.  \\nDisease background  of Eczema , Dermatitis - \\nEczema can affect individuals of all ages but is more common in children, with many cases improving \\nor resolving by adulthood. People with a personal or family history of allergic conditions such as \\nasthma, hay fever, or food allergies are at higher risk. Certain occupations or activities that involve \\nfrequent exposure to irritants or allergens may increase the likelihood of developing contact \\ndermatitis, a type of eczema. Environmental factors such as pollution and climate can influence \\neczema severity and  frequency of flare -ups. ', metadata={'source': '../data/derma/Dermatitis (eczema).pdf', 'page': 2}),\n",
       " Document(page_content=\"Disease Name –  \\nFolliculitis  \\n \\n \\nMedical history related  Folliculitis –  \\nHistory of recent exposure to hot tubs, pools, or contaminated water. Previous episodes of shaving or \\nwaxing in affected areas. Underlying medical conditions such as diabetes or compromised immune \\nsystem. Use of occlusive clothing or equipment that traps moisture and heat against the skin.  \\n \\n \\nSymptoms of Folliculitis –  \\nSymptom 1  - Red, Inflamed Bumps or Pustules around Hair Follicles: Folliculitis typically presents as red, \\ninflamed bumps or pustules that develop around hair follicles. These bumps may vary in size and may be \\naccompanied by swelling. In bacterial folliculitis, the bu mps can contain pus, giving them a yellow or \\nwhite appearance.  \\nSymptom 2 - Itching or Burning Sensation in Affected Areas: Folliculitis often causes itching or a burning \\nsensation in the affected areas. This sensation can range from mild to severe and may worsen with \\nscratching or friction.  \\nSymptom 3 - Pain or Tenderness When Touched: The affected skin may be tender or painful to the touch. \\nThis tenderness is often localized to the area around the inflamed hair follicles and may be exacerbated \\nby pressure or movement.  \\nSymptom 4 - Small, Pus -filled Blisters or Sores: In cases of bacterial folliculitis, small pus -filled blisters or \\nsores may develop on the skin's surface. These blisters may rupture, leading to the release of pus and \\nthe formation of crusts or scabs.  \\nSymptom 5 - Crusty or Scaly Skin over Affected Follicles: As folliculitis progresses, the skin over the \\naffected follicles may become crusty or scaly. This is particularly common in cases where the condition is \\nchronic or if there is repeated irritation or infection o f the hair follicles.  \\nSymptom 6 - Hair Loss or Thinning in Severe Cases: In severe or chronic cases of folliculitis, hair loss or \\nthinning may occur in the affected area. This can result from damage to the hair follicles caused by \\ninflammation or infection. In some instances, the hair loss  may be temporary, and hair growth may \\nresume once the underlying cause of folliculitis is addressed.  \\n \\n \\nDescription of Folliculitis – \", metadata={'source': '../data/derma/Folliculitis.pdf', 'page': 0}),\n",
       " Document(page_content='Folliculitis is a common skin condition characterized by inflammation and infection of the hair follicles. It \\ncan occur anywhere on the body where hair grows and may present as red, inflamed bumps or pustules \\naround hair follicles. Folliculitis can be caused by bacterial, fungal, or viral infections, as well as physical \\nirritation from shaving, friction, or occlusive clothing. Mild cases of folliculitis typically resol ve on their \\nown, but more severe or persistent cases may require medical treatment, including topical or oral \\nantibiotics, antifungal medications, or anti -inflammatory drugs.  \\n \\n \\nCause s of Folliculitis –  \\nCause 1 - Bacterial infection: Staphylococcus aureus is the most common bacteria responsible for \\nfolliculitis. These bacteria can enter the skin through small cuts, abrasions, or hair follicles, leading to \\ninfection and inflammation.  \\nCause 2- Fungal infection: Yeasts such as Malassezia or fungi like Candida can also cause folliculitis, \\nparticularly in warm and humid environments. Fungal folliculitis may be associated with conditions such \\nas pityrosporum folliculitis or tinea barbae.  \\nCause 3- Viral infection: Herpes simplex virus (HSV) or herpes zoster virus (shingles) can cause folliculitis, \\nresulting in clusters of small, painful blisters or sores around hair follicles.  \\nCause 4- Physical irritation: Friction from tight clothing, shaving, waxing, or repetitive movements can \\nirritate hair follicles and lead to folliculitis, especially in areas with coarse or curly hair.  \\n \\n \\nLifestyle changes to prevent  Folliculitis –  \\nPreventive measures for folliculitis include practicing good hygiene, avoiding sharing personal items such \\nas razors or towels, and keeping the skin clean and dry. Individuals prone to folliculitis should consider \\nusing antibacterial or antifungal cleansers and avoiding occlusive clothing or equipment that traps \\nmoisture against the skin. Proper shaving techniques, such as using sharp razors and s having in the \\ndirection of hair growth, can help reduce the risk of folliculitis. In cases of recurrent or persistent \\nfolliculitis, consulting a dermatologist for evaluation and treatment options is recommended.  \\n \\n \\nDisease background  of Folliculitis – \\nFolliculitis can affect individuals of all ages and is commonly seen in areas with increased friction or \\nmoisture, such as the scalp, face, neck, chest, back, buttocks, and thighs. People who frequent hot tubs, \\npools, or saunas are at higher risk of develo ping folliculitis due to exposure to contaminated water. \\nIndividuals with compromised immune systems, diabetes, or conditions that affect hair growth may also \\nbe more susceptible to folliculitis. Proper hygiene practices and prompt treatment of any skin ir ritation \\nor infection can help prevent folliculitis and reduce the risk of complications.  ', metadata={'source': '../data/derma/Folliculitis.pdf', 'page': 1}),\n",
       " Document(page_content=\"Disease Name –  \\nWarts  \\n \\n \\nMedical history related to  Warts –  \\nHistory of previous wart infections. Immunocompromised conditions such as HIV/AIDS. Close contact \\nwith individuals with warts. Frequent exposure to moist environments like swimming pools or communal \\nshowers.  \\n \\n \\nSymptoms of Warts –  \\nSymptom 1 - Small, Rough, Flesh -Colored or Grayish Growths on the Skin: Warts typically manifest as \\nsmall, rough growths on the skin's surface. These growths may vary in color, appearing flesh -colored or \\ngrayish, and can range in size from a pinhead to several millime ters in diameter. Warts are often slightly \\nraised above the skin and may have a round or irregular shape.  \\nSymptom 2- Raised Bumps with a Rough Surface Texture Resembling Cauliflower: Warts can have a \\ndistinctive appearance, with raised bumps and a rough surface texture that resembles cauliflower. This \\ntexture is caused by hyperkeratosis, a thickening of the skin's outer  layer, which occurs as a result of the \\nviral infection. The surface of the wart may be uneven and irregular, with tiny projections or pits.  \\nSymptom 3- Pain or Tenderness When Pressed: Warts can be tender or painful to the touch, particularly \\nif they are located in areas subject to pressure or friction. Pressing on the wart may elicit discomfort or a \\nsharp, stinging sensation. This tenderness is often due  to inflammation and irritation of the surrounding \\nskin caused by the wart.  \\nSymptom 4- Itching or Irritation in Affected Areas: Warts may cause itching or irritation in the \\nsurrounding skin, leading to discomfort or a desire to scratch the affected area. This itching sensation can \\nvary in intensity and may be exacerbated by factors such as h eat, sweating, or friction.  \\nSymptom 5- Warts May Appear Singly or in Clusters (Mosaic Warts): Warts can occur singly or in clusters, \\nknown as mosaic warts. Mosaic warts are groups of closely spaced warts that merge together to form a \\nlarger lesion. Clusters of warts often develop in areas of th e body with thin or sensitive skin, such as the \\nfingers, hands, or feet.  \\nSymptom 6- Plantar Warts on the Soles of the Feet May Cause Discomfort While Walking: Plantar warts, \\nwhich develop on the soles of the feet, can cause discomfort or pain, especially while walking or \\nstanding. The pressure exerted on the wart by body weight can cause pain, tenderness, or a sensation of \\nwalking on a pebble or foreign object. Plantar warts may also have a thickened, callused appearance and \\nmay be surrounded by a ring of hardened skin.  \\n \", metadata={'source': '../data/derma/Warts.pdf', 'page': 0}),\n",
       " Document(page_content=\" \\n \\n \\nDescription of  Warts – \\nWarts are benign skin growths caused by human papillomavirus (HPV) infection. They typically appear as \\nsmall, rough growths on the skin's surface and can vary in size and appearance depending on the type of \\nHPV involved. Common warts often develop on the h ands, fingers, or around the nails, while plantar \\nwarts occur on the soles of the feet. Warts are usually harmless but can be unsightly or cause \\ndiscomfort, particularly if they appear in areas subject to pressure or friction.  \\n \\n \\nCause s of Warts –  \\nCause 1 - Human papillomavirus (HPV) infection: Warts are caused by infection with HPV, a common virus \\ntransmitted through direct skin -to-skin contact or contact with contaminated surfaces. Different strains \\nof HPV are associated with various types of warts, including com mon warts (HPV types 2 and 4) and \\nplantar warts (HPV types 1, 2, and 4).  \\nCause 2 - Environmental exposure: Certain environments, such as swimming pools, communal showers, \\nand locker rooms, may facilitate the spread of HPV and increase the risk of developing warts, particularly \\nplantar warts. Walking barefoot in these areas can e xpose the feet to the virus, leading to infection and \\nwart formation.  \\n \\n \\nLifestyle changes to prevent Warts –  \\nPreventive measures for warts include avoiding direct contact with warts and practicing good hygiene, \\nsuch as washing hands regularly and keeping the skin clean and dry. Individuals should avoid picking or \\nscratching warts to prevent spreading the virus to other areas of the body or to other people. Wearing \\nprotective foo twear in communal areas like swimming pools and showers can reduce the risk of HPV \\nexposure. Additionally, maintaining a healthy immune system through proper nutrition, regular exercise, \\nand adequate rest may help reduce susceptibility to HPV infection and  decrease the likelihood of \\ndeveloping warts.  \\n \\n \\nDisease  background of Warts – \\nWarts can affect individuals of all ages but are most common in children and young adults. Certain \\nfactors, such as weakened immune function or frequent skin trauma, may increase the risk of developing \", metadata={'source': '../data/derma/Warts.pdf', 'page': 1}),\n",
       " Document(page_content='warts. Individuals with conditions that compromise the immune system, such as HIV/AIDS or organ \\ntransplantation recipients, are more susceptible to HPV infection and may experience more frequent or \\npersistent warts. Close contact with individuals who have warts or exposure to contaminated surfaces in \\npublic places can also increase the likelihood of acquiring HPV and developing warts.  ', metadata={'source': '../data/derma/Warts.pdf', 'page': 2})]"
      ]
     },
     "execution_count": 24,
     "metadata": {},
     "output_type": "execute_result"
    }
   ],
   "source": [
    "all_docs"
   ]
  },
  {
   "cell_type": "code",
   "execution_count": 25,
   "metadata": {},
   "outputs": [],
   "source": [
    "from langchain.text_splitter import RecursiveCharacterTextSplitter\n",
    "text_splitter = RecursiveCharacterTextSplitter(\n",
    "    chunk_size=750,\n",
    "    chunk_overlap=75,\n",
    "    separators=[\"\\n\\n\", \"\\n\", \"(?<=\\. )\", \" \", \"\"]\n",
    ")\n",
    "splitted_docs = text_splitter.split_documents(all_docs)"
   ]
  },
  {
   "cell_type": "code",
   "execution_count": 26,
   "metadata": {},
   "outputs": [
    {
     "name": "stdout",
     "output_type": "stream",
     "text": [
      "13\n",
      "49\n"
     ]
    }
   ],
   "source": [
    "print(len(all_docs))\n",
    "print(len(splitted_docs))"
   ]
  },
  {
   "cell_type": "code",
   "execution_count": 15,
   "metadata": {},
   "outputs": [],
   "source": [
    "# COnfigure Vector store\n",
    "\n",
    "from langchain_openai import OpenAIEmbeddings\n",
    "from langchain_community.vectorstores import Chroma\n",
    "embedding = OpenAIEmbeddings()\n",
    "persist_directory_python = '../Chroma/python/'\n",
    "\n",
    "vectordb_python = Chroma.from_documents(\n",
    "    documents=python_split_docs,\n",
    "    embedding=embedding,\n",
    "    persist_directory=persist_directory_python\n",
    ")"
   ]
  },
  {
   "cell_type": "code",
   "execution_count": 27,
   "metadata": {},
   "outputs": [
    {
     "name": "stderr",
     "output_type": "stream",
     "text": [
      "c:\\Users\\Lenovo\\anaconda3\\envs\\dermit-backend-test\\lib\\site-packages\\langchain_core\\_api\\deprecation.py:119: LangChainDeprecationWarning: Since Chroma 0.4.x the manual persistence method is no longer supported as docs are automatically persisted.\n",
      "  warn_deprecated(\n"
     ]
    }
   ],
   "source": [
    "embedding = OpenAIEmbeddings()\n",
    "\n",
    "vectordb = Chroma.from_documents(\n",
    "        documents= splitted_docs,\n",
    "        embedding=embedding,\n",
    "        persist_directory=\"../Chroma/derma\")"
   ]
  },
  {
   "cell_type": "code",
   "execution_count": 34,
   "metadata": {},
   "outputs": [],
   "source": [
    "# FAISS\n",
    "\n",
    "from langchain_community.vectorstores import FAISS\n",
    "from langchain_openai import OpenAIEmbeddings\n",
    "from langchain_text_splitters import CharacterTextSplitter\n",
    "\n",
    "loader = PyPDFLoader(\"../data/rooks_textbook.pdf\")\n",
    "documents = loader.load()\n",
    "\n",
    "text_splitter = RecursiveCharacterTextSplitter(\n",
    "    chunk_size=chunk_size,\n",
    "    chunk_overlap=chunk_overlap,\n",
    "    separators=[\"\\n\\n\", \"\\n\", \"(?<=\\. )\", \" \", \"\"]\n",
    ")\n",
    "docs = text_splitter.split_documents(documents)\n",
    "embeddings = OpenAIEmbeddings()\n",
    "\n",
    "db = FAISS.from_documents(docs, embeddings)\n",
    "db.save_local(\"../FAISS/rooks_textbook\")\n",
    "print(db.index.ntotal)"
   ]
  },
  {
   "cell_type": "code",
   "execution_count": 29,
   "metadata": {},
   "outputs": [
    {
     "name": "stdout",
     "output_type": "stream",
     "text": [
      "198\n"
     ]
    }
   ],
   "source": [
    "print(len(docs))"
   ]
  },
  {
   "cell_type": "code",
   "execution_count": 32,
   "metadata": {},
   "outputs": [],
   "source": [
    "from langchain_openai import ChatOpenAI\n",
    "from langchain.chains import ConversationalRetrievalChain\n",
    "\n",
    "llm = ChatOpenAI(model_name=\"gpt-3.5-turbo-0125\", temperature=0)\n",
    "qa_chain_python = ConversationalRetrievalChain.from_llm(\n",
    "    llm,\n",
    "    retriever=vectordb_python.as_retriever(),\n",
    "    return_source_documents=True,\n",
    ")"
   ]
  },
  {
   "cell_type": "code",
   "execution_count": 30,
   "metadata": {},
   "outputs": [],
   "source": [
    "# FAISS\n",
    "\n",
    "from langchain_openai import ChatOpenAI\n",
    "from langchain.chains import ConversationalRetrievalChain\n",
    "\n",
    "llm = ChatOpenAI(model_name=\"gpt-3.5-turbo-0125\", temperature=0)\n",
    "qa_chain = ConversationalRetrievalChain.from_llm(\n",
    "    llm,\n",
    "    retriever=db.as_retriever(),\n",
    "    return_source_documents=True,\n",
    ")"
   ]
  },
  {
   "cell_type": "code",
   "execution_count": 33,
   "metadata": {},
   "outputs": [
    {
     "data": {
      "text/plain": [
       "{'question': 'What is python?',\n",
       " 'chat_history': [],\n",
       " 'answer': 'Python is a popular programming language that is open source freeware, meaning it can be downloaded and used for free for any purpose, commercial or not. It is known for being beginner-friendly and fun to learn, while also being powerful enough to support the technology behind many world-class companies like Instagram, YouTube, Reddit, and Spotify. Python has a strong community that has developed numerous useful tools for various programming tasks. It is versatile and widely used in different fields such as web development, data science, automation, and more.',\n",
       " 'source_documents': [Document(page_content='At the same time, Python has all the functionality of other languag es\\nandmore. Youmightbesurprisedbyhowmanyprofessionalprodu cts\\nare built on Python code: Instagram, YouTube, Reddit, Spotify , to\\nname just a few.\\nPythonisnotonlyafriendlyandfunlanguagetolearn,butita lsopow-\\ners the technology behind multiple world-class companies and oﬀ ers\\nfantastic career opportunities for any programmer who maste rs it.\\n1.1 WhyThisBook?\\nLet’s face it: there’s an overwhelming amount of information a bout\\nPython on the Internet. But many beginners studying on their own\\nhave trouble ﬁguring out whatto learn and in what order to learn it.\\n21', metadata={'page': 21, 'source': '../data/python.pdf'}),\n",
       "  Document(page_content='But what’s so great about Python as a programming language? For\\none, Python is open source freeware, meaning you can download it\\nfor free and use it for any purpose, commercial or not.\\nPython also has an amazing community that has built a number of\\nuseful tools that you can use in your own programs. Need to work\\nwithPDFdocuments? There’sacomprehensivetoolforthat. Want to\\ncollect data from web pages? No need to start from scratch!\\n20', metadata={'page': 20, 'source': '../data/python.pdf'}),\n",
       "  Document(page_content='Contents\\nSothereyouhaveasimpleyetpowerfulstarterexample. Ontherea l-\\nworld side of things, many incredible applications have been w ritten\\nin Python as well.\\nYouTube,theworld’smostpopularvideostreamingsite,iswr ittenin\\nPythonandprocessesmorethanamillionrequestspersecond. I nsta-\\ngramisanotherexampleofaPythonapplication. Closertohome, we\\neven have realpython.com and my sites, such as talkpython.fm.\\nThis full-spectrum aspect of Python means that you can start with\\nthe basics and adopt more advanced features as your applicati on de-\\nmands grow.\\nPythonIsPopular\\nYou might have heard that Python is popular. It may seem that it\\ndoesn’t really matter how popular a language is so long as you c an\\nbuild the app you want to build with it.', metadata={'page': 16, 'source': '../data/python.pdf'}),\n",
       "  Document(page_content='Contents\\nAgain,inthegraphbelow,you’llseethatPythonistoppingthecha rts\\nand is well above even second place:\\nIf you agree with me that the relative popularity of a programmi ng\\nlanguage matters, then Python is clearly a good choice.\\nWeDon’tNeedYoutoBeaComputerScientist\\nOne other point that I want to emphasize as you start your Python\\nlearning journey is that we don’t need you to be a computer scien tist.\\nIf that’s your goal, then great. Learning Python is a powerful st ep\\nin that direction. But the invitation to learn programming is o ften\\nframed as “We have all these developer jobs going unﬁlled! We nee d\\nsoftware developers!”\\nThat may or may not be true. But, more importantly, programmin g', metadata={'page': 18, 'source': '../data/python.pdf'})]}"
      ]
     },
     "execution_count": 33,
     "metadata": {},
     "output_type": "execute_result"
    }
   ],
   "source": [
    "qa_chain_python.invoke({\"question\": \"What is python?\", \"chat_history\":[]})"
   ]
  },
  {
   "cell_type": "code",
   "execution_count": 31,
   "metadata": {},
   "outputs": [
    {
     "data": {
      "text/plain": [
       "{'question': 'What is python?',\n",
       " 'chat_history': [],\n",
       " 'answer': 'Python is a programming language that is open source freeware, meaning it can be downloaded for free and used for any purpose, commercial or not. It is known for being beginner-friendly and fun to learn, while also being powerful enough to support the technology behind many world-class companies like Instagram, YouTube, Reddit, and Spotify. Python has a strong community that has developed many useful tools for programmers to use in their programs.',\n",
       " 'source_documents': [Document(page_content='At the same time, Python has all the functionality of other languag es\\nandmore. Youmightbesurprisedbyhowmanyprofessionalprodu cts\\nare built on Python code: Instagram, YouTube, Reddit, Spotify , to\\nname just a few.\\nPythonisnotonlyafriendlyandfunlanguagetolearn,butita lsopow-\\ners the technology behind multiple world-class companies and oﬀ ers\\nfantastic career opportunities for any programmer who maste rs it.\\n1.1 WhyThisBook?\\nLet’s face it: there’s an overwhelming amount of information a bout\\nPython on the Internet. But many beginners studying on their own\\nhave trouble ﬁguring out whatto learn and in what order to learn it.\\n21', metadata={'source': '../data/python.pdf', 'page': 21}),\n",
       "  Document(page_content='But what’s so great about Python as a programming language? For\\none, Python is open source freeware, meaning you can download it\\nfor free and use it for any purpose, commercial or not.\\nPython also has an amazing community that has built a number of\\nuseful tools that you can use in your own programs. Need to work\\nwithPDFdocuments? There’sacomprehensivetoolforthat. Want to\\ncollect data from web pages? No need to start from scratch!\\n20', metadata={'source': '../data/python.pdf', 'page': 20}),\n",
       "  Document(page_content='Contents\\nSothereyouhaveasimpleyetpowerfulstarterexample. Ontherea l-\\nworld side of things, many incredible applications have been w ritten\\nin Python as well.\\nYouTube,theworld’smostpopularvideostreamingsite,iswr ittenin\\nPythonandprocessesmorethanamillionrequestspersecond. I nsta-\\ngramisanotherexampleofaPythonapplication. Closertohome, we\\neven have realpython.com and my sites, such as talkpython.fm.\\nThis full-spectrum aspect of Python means that you can start with\\nthe basics and adopt more advanced features as your applicati on de-\\nmands grow.\\nPythonIsPopular\\nYou might have heard that Python is popular. It may seem that it\\ndoesn’t really matter how popular a language is so long as you c an\\nbuild the app you want to build with it.', metadata={'source': '../data/python.pdf', 'page': 16}),\n",
       "  Document(page_content='Python Basics: A Practical Introduction\\nto Python 3\\nReal Python', metadata={'source': '../data/python.pdf', 'page': 1})]}"
      ]
     },
     "execution_count": 31,
     "metadata": {},
     "output_type": "execute_result"
    }
   ],
   "source": [
    "qa_chain.invoke({\"question\": \"What is python?\", \"chat_history\":[]})"
   ]
  }
 ],
 "metadata": {
  "kernelspec": {
   "display_name": "dermit-backend-test",
   "language": "python",
   "name": "python3"
  },
  "language_info": {
   "codemirror_mode": {
    "name": "ipython",
    "version": 3
   },
   "file_extension": ".py",
   "mimetype": "text/x-python",
   "name": "python",
   "nbconvert_exporter": "python",
   "pygments_lexer": "ipython3",
   "version": "3.9.19"
  }
 },
 "nbformat": 4,
 "nbformat_minor": 2
}
